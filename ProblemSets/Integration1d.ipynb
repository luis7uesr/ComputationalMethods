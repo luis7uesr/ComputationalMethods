{
 "cells": [
  {
   "cell_type": "markdown",
   "metadata": {},
   "source": [
    "<h1><center>Computational Methods</center></h1>\n",
    "<h2><center> Problem Set 1: Numerical Integration  </center></h2>\n",
    "<h3><center> Luis Santander </center></h3>\n",
    "<center> <i>Grupo de Física Atómica y Molecular GFAM</i> </center> \n",
    "<center> <i>Grupo de Física Teórica y Matemática Aplicada GFTyMA</i> </center> \n",
    "<center> Instituto de Física, Universidad de Antioquia</center>\n",
    "<center> Medellín, Colombia</center>"
   ]
  },
  {
   "cell_type": "code",
   "execution_count": 2,
   "metadata": {},
   "outputs": [
    {
     "name": "stdout",
     "output_type": "stream",
     "text": [
      "--- 4.6253204345703125e-05 seconds ---\n"
     ]
    }
   ],
   "source": [
    "import time\n",
    "# TEST TIME\n",
    "t0=time.time()\n",
    "print(\"--- %s seconds ---\" % (time.time() - t0))"
   ]
  },
  {
   "cell_type": "markdown",
   "metadata": {},
   "source": [
    "<h2><center> Riemman Integration </center></h2>\n",
    "\n",
    "$$ \\int_a^b \\mathrm{d}x \\ f(x) = \\frac{b-a}{N} \\sum_{i=1}^{N} f(x_i) $$"
   ]
  },
  {
   "cell_type": "markdown",
   "metadata": {},
   "source": [
    "<h2><center> Exercises </center></h2>\n",
    "\n",
    "\n",
    "1. Computes the integral $$ \\int_0^1 dx \\frac{4}{1+x^2} $$ by Riemman sums with $N=1,10^2, 10^4,10^6, 10^8$ and gives percent error and computational time. Predict the computational time for $N=10^{12}$, and obtain the minimum $N$ for error $10^{-6}$.\n",
    "\n",
    "<h2><center>  </center></h2>\n",
    "\n",
    "2. An experiment has measured $dN(t)/dt$, the number of particles entering a counter, per unit time, as a function of time. Your problem is to integrate this spectrum to obtain the number of particles $N(1)$ that entered the counter in the first second \n",
    "$$ N(1) = \\int_0^1 e^{-t} dt$$\n",
    "Compare the relative error for the composite trapezoid and Simpson rules. Try different values of N. Make a logarithmic plot of N vs Error."
   ]
  },
  {
   "cell_type": "code",
   "execution_count": null,
   "metadata": {},
   "outputs": [],
   "source": []
  }
 ],
 "metadata": {
  "kernelspec": {
   "display_name": "Python 3",
   "language": "python",
   "name": "python3"
  },
  "language_info": {
   "codemirror_mode": {
    "name": "ipython",
    "version": 3
   },
   "file_extension": ".py",
   "mimetype": "text/x-python",
   "name": "python",
   "nbconvert_exporter": "python",
   "pygments_lexer": "ipython3",
   "version": "3.5.2"
  }
 },
 "nbformat": 4,
 "nbformat_minor": 2
}
